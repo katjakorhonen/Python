{
 "cells": [
  {
   "cell_type": "markdown",
   "metadata": {},
   "source": [
    "# TX00DQ05-3001 Reinforcement Learning, exercises 1"
   ]
  },
  {
   "cell_type": "code",
   "execution_count": 32,
   "metadata": {},
   "outputs": [],
   "source": [
    "# import numpy and other useful packages\n",
    "import numpy as np\n",
    "import numpy.linalg as LA\n",
    "from random import randint"
   ]
  },
  {
   "cell_type": "markdown",
   "metadata": {},
   "source": [
    "## Weather example\n",
    "\n",
    "P is the transition matrix and t0 weather on day 0"
   ]
  },
  {
   "cell_type": "code",
   "execution_count": 3,
   "metadata": {},
   "outputs": [
    {
     "name": "stdout",
     "output_type": "stream",
     "text": [
      "[0.6 0.4]\n",
      "[0.36 0.64]\n",
      "[0.36 0.64]\n",
      "[0.42852649 0.57147351]\n",
      "[0.42857143 0.57142857]\n",
      "[0.42857143 0.57142857]\n"
     ]
    }
   ],
   "source": [
    "P = np.array(([0.2, 0.8], [0.6, 0.4]))\n",
    "t0 = np.array([0.0, 1.0])\n",
    "\n",
    "t1 = np.dot(t0, P)\n",
    "print(t1)\n",
    "t2 = np.dot(t1, P)\n",
    "print(t2)\n",
    "print(np.dot(t0, LA.matrix_power(P, 2)))\n",
    "print(np.dot(t0, LA.matrix_power(P, 10)))\n",
    "print(np.dot(t0, LA.matrix_power(P, 30)))\n",
    "print(np.dot(t0, LA.matrix_power(P, 50)))"
   ]
  },
  {
   "cell_type": "markdown",
   "metadata": {},
   "source": [
    "## Exercise 1\n",
    "\n",
    "Check some matrix algebra identities with numpy.\n",
    "\n",
    "* A + B = B + A\n",
    "* cA + cB = c(A + B) where c is scalar\n",
    "* if shape of A is (x,y), shape of A.T (transpose) is (y,x) \n",
    "* if v is vector of shape (x,), then v dot A has shape (y,)\n",
    "* verify that shape of A.T dot B is (y, y) and shape of A dot B.T is (x, x)"
   ]
  },
  {
   "cell_type": "code",
   "execution_count": 16,
   "metadata": {},
   "outputs": [
    {
     "name": "stdout",
     "output_type": "stream",
     "text": [
      "1)\n",
      "[[1 3 5]\n",
      " [4 1 3]\n",
      " [5 1 1]\n",
      " [5 3 3]]\n",
      "[[1 3 5]\n",
      " [4 1 3]\n",
      " [5 1 1]\n",
      " [5 3 3]]\n",
      "they are the same.\n",
      "2)\n",
      "[[ 4 12 20]\n",
      " [16  4 12]\n",
      " [20  4  4]\n",
      " [20 12 12]]\n",
      "[[ 4 12 20]\n",
      " [16  4 12]\n",
      " [20  4  4]\n",
      " [20 12 12]]\n",
      "they are the same.\n",
      "3)\n",
      "(4, 3)\n",
      "(3, 4)\n",
      "4)\n",
      "(4,)\n",
      "(3,)\n",
      "5)\n",
      "(4, 3)\n",
      "(3, 3)\n",
      "(4, 4)\n"
     ]
    }
   ],
   "source": [
    "A = np.array(([1, 2, 3], [2, 0 ,2], [3, 0, 1], [4, 1 ,0]))\n",
    "B = np.array(([0, 1, 2], [2, 1, 1], [2, 1, 0], [1, 2, 3]))\n",
    "\n",
    "\n",
    "\n",
    "# 1) A + B = B + A\n",
    "print(\"1)\")\n",
    "print(A + B)\n",
    "print(B + A)\n",
    "\n",
    "print(\"they are the same.\")\n",
    "\n",
    "# 2) cA + cB = c(A + B)\n",
    "print(\"2)\")\n",
    "c = 4\n",
    "print(c*A + c*B)\n",
    "print(c*(A + B))\n",
    "print(\"they are the same.\")\n",
    "\n",
    "# 3) if shape of A is (x,y), shape of A.T (transpose) is (y,x)\n",
    "print(\"3)\")\n",
    "print(A.shape)\n",
    "print(A.T.shape)\n",
    "\n",
    "# 4) if v is vector of shape (x,), then v dot A has shape (y,)\n",
    "print(\"4)\")\n",
    "v= np.array(([1,2,3, 4]))\n",
    "print(v.shape)\n",
    "print(v.dot(A).shape)\n",
    "\n",
    "# 5) verify that shape of A.T dot B is (y, y) and shape of A dot B.T is (x, x)\n",
    "print(\"5)\")\n",
    "print(B.shape)\n",
    "print(A.T.dot(B).shape)\n",
    "\n",
    "print(A.dot(B.T).shape)\n",
    "\n"
   ]
  },
  {
   "cell_type": "markdown",
   "metadata": {},
   "source": [
    "## Exercise 2\n",
    "\n",
    "Throw a dice (1..6) repeadetly and maintain the mean value of the \n",
    "numbers continously (and without explicitly storing the numbers or their sum) by\n",
    "computing a correction factor to the previous mean.\n",
    "\n",
    "Hint: mean(n) = sum(n) / n = (sum(n-1) + a(n)) / n = (mean(n-1) * (n-1) + a(n)) / n =\n",
    "mean(n-1) + (a(n) - mean(n-1)) / n\n",
    "\n",
    "Stop computation when correction factor stays below eps for b rounds or if you reach maxiter iterations.\n",
    "\n",
    "How does changing eps and b influence the number of iterations needed?"
   ]
  },
  {
   "cell_type": "code",
   "execution_count": 239,
   "metadata": {},
   "outputs": [
    {
     "name": "stdout",
     "output_type": "stream",
     "text": [
      "3.4791666666666665\n",
      "97\n"
     ]
    }
   ],
   "source": [
    "eps = 0.00001\n",
    "b = 50\n",
    "maxiter = 1000000\n",
    "\n",
    "# YOUR CODE HERE\n",
    "x=1\n",
    "y= randint(1, 6)\n",
    "\n",
    "m = y\n",
    "\n",
    "x=2\n",
    "z=0\n",
    "\n",
    "while (x <= maxiter):\n",
    "    y= randint(1, 6)\n",
    "    if (z >= b):\n",
    "        break\n",
    "    if ((y-m)/x < eps):\n",
    "        z += 1\n",
    "    m= m + (y-m)/x\n",
    "    x += 1\n",
    "    \n",
    "print(m)\n",
    "print(x)\n",
    "\n",
    "# if you change eps bigger, you need less iterations. If you change b bigger, you need more iterations"
   ]
  },
  {
   "cell_type": "markdown",
   "metadata": {},
   "source": [
    "## Exercise 3\n",
    "\n",
    "Given transition matrix P and initial state t0 write \n",
    "an iterative algorithm to find the steady state.\n",
    "\n",
    "Stopping condition is that the norm (length of vector, use LA.norm) \n",
    "does not change more than eps in an iteration"
   ]
  },
  {
   "cell_type": "code",
   "execution_count": 95,
   "metadata": {
    "scrolled": true
   },
   "outputs": [
    {
     "name": "stdout",
     "output_type": "stream",
     "text": [
      "15 iterations and diff:  0\n",
      "[0.31249999 0.140625   0.54687501]\n"
     ]
    }
   ],
   "source": [
    "maxiter = 10000\n",
    "eps = 0.0000001\n",
    "\n",
    "P = np.array(([0.2, 0.1, 0.7], [1.0, 0.0, 0.0], [0.2, 0.2, 0.6]))\n",
    "t0 = np.array([1.0, 0.0, 0.0])\n",
    "\n",
    "\n",
    "\n",
    "\n",
    "x = 1\n",
    "y= np.dot(t0, LA.matrix_power(P, x))\n",
    "\n",
    "x=2\n",
    "\n",
    "for i in range(100000):\n",
    "    z= y - np.dot(t0, LA.matrix_power(P, x))\n",
    "    c=LA.norm(z)\n",
    "    y= np.dot(t0, LA.matrix_power(P, x))\n",
    "    x += 1\n",
    "    if (c<=eps):\n",
    "        break\n",
    "        \n",
    "print(x , \"iterations and diff: \" , int(c))\n",
    "print(y)"
   ]
  },
  {
   "cell_type": "code",
   "execution_count": null,
   "metadata": {},
   "outputs": [],
   "source": []
  }
 ],
 "metadata": {
  "kernelspec": {
   "display_name": "Python 3",
   "language": "python",
   "name": "python3"
  },
  "language_info": {
   "codemirror_mode": {
    "name": "ipython",
    "version": 3
   },
   "file_extension": ".py",
   "mimetype": "text/x-python",
   "name": "python",
   "nbconvert_exporter": "python",
   "pygments_lexer": "ipython3",
   "version": "3.6.7"
  }
 },
 "nbformat": 4,
 "nbformat_minor": 2
}
